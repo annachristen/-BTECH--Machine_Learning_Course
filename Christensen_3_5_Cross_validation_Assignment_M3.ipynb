{
  "nbformat": 4,
  "nbformat_minor": 0,
  "metadata": {
    "colab": {
      "provenance": [],
      "include_colab_link": true
    },
    "kernelspec": {
      "name": "python3",
      "display_name": "Python 3"
    },
    "language_info": {
      "name": "python"
    }
  },
  "cells": [
    {
      "cell_type": "markdown",
      "metadata": {
        "id": "view-in-github",
        "colab_type": "text"
      },
      "source": [
        "<a href=\"https://colab.research.google.com/github/annachristen/-BTECH--Machine_Learning_Course/blob/main/Christensen_3_5_Cross_validation_Assignment_M3.ipynb\" target=\"_parent\"><img src=\"https://colab.research.google.com/assets/colab-badge.svg\" alt=\"Open In Colab\"/></a>"
      ]
    },
    {
      "cell_type": "markdown",
      "source": [
        "# MODULE 3: Cross-validation Assignment (30 pts)"
      ],
      "metadata": {
        "id": "Akt9_r9MemYp"
      }
    },
    {
      "cell_type": "markdown",
      "source": [
        "For this assignment, you will demonstrate your understanding of the Cross-validation techniques with Python for:\n",
        "\n",
        "*   Hold-Out cross-validation\n",
        "*   K-folds cross-validation\n",
        "*   Leave-One-Out cross-validation\n",
        "\n"
      ],
      "metadata": {
        "id": "r_N8qIiHMR7O"
      }
    },
    {
      "cell_type": "markdown",
      "source": [
        "### **Problem 1: Hold-Out CV (10 pts)**\n",
        "\n",
        "Based on the examples from the lecture notes, do the following:\n",
        "\n",
        "* Step 1: Import the necessary library\n",
        "* Step 2: Create a new dataset using `range()` (a different one from the example)\n",
        "* Step 3: Set the percentage of the split as: Training 80% and test 20% sets.\n",
        "* Step 4: Find: `X_train` and `X_test`\n",
        "* Step 5: Print the training and testing set.\n",
        "\n",
        "\n"
      ],
      "metadata": {
        "id": "eXUc6OaCO742"
      }
    },
    {
      "cell_type": "code",
      "execution_count": 7,
      "metadata": {
        "id": "vWSnlgOfTlxU"
      },
      "outputs": [],
      "source": [
        "#Import the necessary library\n",
        "from sklearn.model_selection import train_test_split\n",
        "\n",
        "\n",
        "\n",
        "\n"
      ]
    },
    {
      "cell_type": "code",
      "source": [
        "#Load the dataset\n",
        "\n",
        "X=[50,100,150,200,250,300,350,400,450,500,550,600,650,700,750,800,850,900,950,1000]\n",
        "\n"
      ],
      "metadata": {
        "id": "mvZxeko_cmR7"
      },
      "execution_count": 8,
      "outputs": []
    },
    {
      "cell_type": "code",
      "source": [
        "#Find X_train and X_test\n",
        "\n",
        "X_train,X_test = train_test_split(X,test_size=0.3,random_state=1)"
      ],
      "metadata": {
        "id": "IJNrqlWZcm4h"
      },
      "execution_count": 9,
      "outputs": []
    },
    {
      "cell_type": "code",
      "source": [
        "#Print X_train and X_test\n",
        "print('When we use the Hold-Out CV method for our data, we get the following:')\n",
        "print(\"Train:\",X_train)\n",
        "print(\"Test\", X_test)\n"
      ],
      "metadata": {
        "id": "p3B_JCw8d-ME",
        "colab": {
          "base_uri": "https://localhost:8080/"
        },
        "outputId": "ab78bb92-1fca-43b7-b455-12141ece7d51"
      },
      "execution_count": 10,
      "outputs": [
        {
          "output_type": "stream",
          "name": "stdout",
          "text": [
            "When we use the Hold-Out CV method for our data, we get the following:\n",
            "Train: [250, 900, 400, 100, 700, 50, 1000, 950, 500, 800, 450, 650, 600, 300]\n",
            "Test [200, 850, 350, 550, 150, 750]\n"
          ]
        }
      ]
    },
    {
      "cell_type": "markdown",
      "source": [
        "### **Problem 2: K-fold CV (10 pts)**\n",
        "\n",
        "Based on the examples from the lecture notes, do the following:\n",
        "\n",
        "* Step 1: Import the necessary library\n",
        "* Step 2: Create a new dataset using `range()` (a different one from the example)\n",
        "* Step 3: Set KFold() and use two different numbers of splits (e.g. n_splits= 5 and 10)\n",
        "* Step 4: Print the training and testing set."
      ],
      "metadata": {
        "id": "UGByi-ihg8Fx"
      }
    },
    {
      "cell_type": "code",
      "source": [
        "#Import the library\n",
        "\n",
        "from sklearn.model_selection import KFold"
      ],
      "metadata": {
        "id": "_nLjSG7Ggdel"
      },
      "execution_count": 16,
      "outputs": []
    },
    {
      "cell_type": "code",
      "source": [
        "#Load data\n",
        "X=range(1,20)"
      ],
      "metadata": {
        "id": "JUfIbqoyhdo7"
      },
      "execution_count": 17,
      "outputs": []
    },
    {
      "cell_type": "code",
      "source": [
        "#Find train and test sets with n_split=5\n",
        "KF_CV= KFold(n_splits=5, shuffle=False, random_state=None)\n",
        "\n",
        "for train,test in KF_CV.split(X):\n",
        "  print(\"Training data:\", train, \"Testing data:\", test)"
      ],
      "metadata": {
        "id": "-L6V_riJhlk4",
        "colab": {
          "base_uri": "https://localhost:8080/"
        },
        "outputId": "d636e282-8d6c-4cb0-899e-eaee1c11dd7d"
      },
      "execution_count": 19,
      "outputs": [
        {
          "output_type": "stream",
          "name": "stdout",
          "text": [
            "Training data: [ 4  5  6  7  8  9 10 11 12 13 14 15 16 17 18] Testing data: [0 1 2 3]\n",
            "Training data: [ 0  1  2  3  8  9 10 11 12 13 14 15 16 17 18] Testing data: [4 5 6 7]\n",
            "Training data: [ 0  1  2  3  4  5  6  7 12 13 14 15 16 17 18] Testing data: [ 8  9 10 11]\n",
            "Training data: [ 0  1  2  3  4  5  6  7  8  9 10 11 16 17 18] Testing data: [12 13 14 15]\n",
            "Training data: [ 0  1  2  3  4  5  6  7  8  9 10 11 12 13 14 15] Testing data: [16 17 18]\n"
          ]
        }
      ]
    },
    {
      "cell_type": "code",
      "source": [
        "#Find and print train and test sets with n_split=10\n",
        "\n",
        "KF_CV = KFold(n_splits=10, shuffle=False, random_state=None)\n",
        "\n",
        "for train, test in KF_CV.split(X):\n",
        "  print(\"Training data:\", train, \"Testing data:\", test)"
      ],
      "metadata": {
        "id": "50ecBSQ0iFI3",
        "colab": {
          "base_uri": "https://localhost:8080/"
        },
        "outputId": "18f511da-3e48-410b-d796-afe205bca033"
      },
      "execution_count": 20,
      "outputs": [
        {
          "output_type": "stream",
          "name": "stdout",
          "text": [
            "Training data: [ 2  3  4  5  6  7  8  9 10 11 12 13 14 15 16 17 18] Testing data: [0 1]\n",
            "Training data: [ 0  1  4  5  6  7  8  9 10 11 12 13 14 15 16 17 18] Testing data: [2 3]\n",
            "Training data: [ 0  1  2  3  6  7  8  9 10 11 12 13 14 15 16 17 18] Testing data: [4 5]\n",
            "Training data: [ 0  1  2  3  4  5  8  9 10 11 12 13 14 15 16 17 18] Testing data: [6 7]\n",
            "Training data: [ 0  1  2  3  4  5  6  7 10 11 12 13 14 15 16 17 18] Testing data: [8 9]\n",
            "Training data: [ 0  1  2  3  4  5  6  7  8  9 12 13 14 15 16 17 18] Testing data: [10 11]\n",
            "Training data: [ 0  1  2  3  4  5  6  7  8  9 10 11 14 15 16 17 18] Testing data: [12 13]\n",
            "Training data: [ 0  1  2  3  4  5  6  7  8  9 10 11 12 13 16 17 18] Testing data: [14 15]\n",
            "Training data: [ 0  1  2  3  4  5  6  7  8  9 10 11 12 13 14 15 18] Testing data: [16 17]\n",
            "Training data: [ 0  1  2  3  4  5  6  7  8  9 10 11 12 13 14 15 16 17] Testing data: [18]\n"
          ]
        }
      ]
    },
    {
      "cell_type": "markdown",
      "source": [
        "### **Problem 3: Leave-One-Out CV (10 pts)**\n",
        "\n",
        "Based on the examples from the lecture notes, do the following:\n",
        "\n",
        "* Step 1: Import the necessary library\n",
        "* Step 2: Create a new dataset using `range()`\n",
        "* Step 3: Set LeaveOneOut()\n",
        "* Step 4: Print the training and testing set."
      ],
      "metadata": {
        "id": "NP0NfAxzlch7"
      }
    },
    {
      "cell_type": "code",
      "source": [
        "#Import the library\n",
        "\n",
        "from sklearn.model_selection import LeaveOneOut\n"
      ],
      "metadata": {
        "id": "ij7L43WDlaz3"
      },
      "execution_count": 21,
      "outputs": []
    },
    {
      "cell_type": "code",
      "source": [
        "#Load dataset\n",
        "\n",
        "X = range(1,10)"
      ],
      "metadata": {
        "id": "Rq8W0_v4la8l"
      },
      "execution_count": 22,
      "outputs": []
    },
    {
      "cell_type": "code",
      "source": [
        "#Find and print train and test set\n",
        "\n",
        "LOOCV = LeaveOneOut()\n",
        "for train, test in LOOCV.split(X):\n",
        "  print(\"Training data:\" , train, \"Test data:\", test)\n",
        "\n"
      ],
      "metadata": {
        "id": "LTtDh2ltmYFE",
        "colab": {
          "base_uri": "https://localhost:8080/"
        },
        "outputId": "9746861b-a8c9-4b9f-f04b-71ecde881259"
      },
      "execution_count": 23,
      "outputs": [
        {
          "output_type": "stream",
          "name": "stdout",
          "text": [
            "Training data: [1 2 3 4 5 6 7 8] Test data: [0]\n",
            "Training data: [0 2 3 4 5 6 7 8] Test data: [1]\n",
            "Training data: [0 1 3 4 5 6 7 8] Test data: [2]\n",
            "Training data: [0 1 2 4 5 6 7 8] Test data: [3]\n",
            "Training data: [0 1 2 3 5 6 7 8] Test data: [4]\n",
            "Training data: [0 1 2 3 4 6 7 8] Test data: [5]\n",
            "Training data: [0 1 2 3 4 5 7 8] Test data: [6]\n",
            "Training data: [0 1 2 3 4 5 6 8] Test data: [7]\n",
            "Training data: [0 1 2 3 4 5 6 7] Test data: [8]\n"
          ]
        }
      ]
    },
    {
      "cell_type": "code",
      "source": [],
      "metadata": {
        "id": "-2XGgOjRmYIj"
      },
      "execution_count": null,
      "outputs": []
    }
  ]
}